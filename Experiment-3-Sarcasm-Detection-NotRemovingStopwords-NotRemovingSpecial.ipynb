{
 "cells": [
  {
   "cell_type": "markdown",
   "metadata": {},
   "source": [
    "# Import Libraries"
   ]
  },
  {
   "cell_type": "code",
   "execution_count": 1,
   "metadata": {},
   "outputs": [],
   "source": [
    "# Note that \"MyNLPToolBox\" is written entirely by me from scratch :D\n",
    "from MyNLPToolBox import TextPreprocessor\n",
    "from MyNLPToolBox.WordEmbedders import TFIDFVectorizer\n",
    "from MyNLPToolBox import FilePickling as FP\n",
    "from MyNLPToolBox.TextVisualizer import CountPlot\n",
    "from sklearn.linear_model import LogisticRegression\n",
    "from sklearn.naive_bayes import MultinomialNB\n",
    "from sklearn.metrics import accuracy_score, f1_score, recall_score, precision_score\n",
    "import pandas as pd\n",
    "import numpy as np"
   ]
  },
  {
   "cell_type": "markdown",
   "metadata": {},
   "source": [
    "# Load data from .json"
   ]
  },
  {
   "cell_type": "code",
   "execution_count": 3,
   "metadata": {},
   "outputs": [
    {
     "data": {
      "text/html": [
       "<div>\n",
       "<style scoped>\n",
       "    .dataframe tbody tr th:only-of-type {\n",
       "        vertical-align: middle;\n",
       "    }\n",
       "\n",
       "    .dataframe tbody tr th {\n",
       "        vertical-align: top;\n",
       "    }\n",
       "\n",
       "    .dataframe thead th {\n",
       "        text-align: right;\n",
       "    }\n",
       "</style>\n",
       "<table border=\"1\" class=\"dataframe\">\n",
       "  <thead>\n",
       "    <tr style=\"text-align: right;\">\n",
       "      <th></th>\n",
       "      <th>article_link</th>\n",
       "      <th>headline</th>\n",
       "      <th>is_sarcastic</th>\n",
       "    </tr>\n",
       "  </thead>\n",
       "  <tbody>\n",
       "    <tr>\n",
       "      <th>0</th>\n",
       "      <td>https://www.huffingtonpost.com/entry/versace-b...</td>\n",
       "      <td>former versace store clerk sues over secret 'b...</td>\n",
       "      <td>0</td>\n",
       "    </tr>\n",
       "    <tr>\n",
       "      <th>1</th>\n",
       "      <td>https://www.huffingtonpost.com/entry/roseanne-...</td>\n",
       "      <td>the 'roseanne' revival catches up to our thorn...</td>\n",
       "      <td>0</td>\n",
       "    </tr>\n",
       "    <tr>\n",
       "      <th>2</th>\n",
       "      <td>https://local.theonion.com/mom-starting-to-fea...</td>\n",
       "      <td>mom starting to fear son's web series closest ...</td>\n",
       "      <td>1</td>\n",
       "    </tr>\n",
       "    <tr>\n",
       "      <th>3</th>\n",
       "      <td>https://politics.theonion.com/boehner-just-wan...</td>\n",
       "      <td>boehner just wants wife to listen, not come up...</td>\n",
       "      <td>1</td>\n",
       "    </tr>\n",
       "    <tr>\n",
       "      <th>4</th>\n",
       "      <td>https://www.huffingtonpost.com/entry/jk-rowlin...</td>\n",
       "      <td>j.k. rowling wishes snape happy birthday in th...</td>\n",
       "      <td>0</td>\n",
       "    </tr>\n",
       "  </tbody>\n",
       "</table>\n",
       "</div>"
      ],
      "text/plain": [
       "                                        article_link  \\\n",
       "0  https://www.huffingtonpost.com/entry/versace-b...   \n",
       "1  https://www.huffingtonpost.com/entry/roseanne-...   \n",
       "2  https://local.theonion.com/mom-starting-to-fea...   \n",
       "3  https://politics.theonion.com/boehner-just-wan...   \n",
       "4  https://www.huffingtonpost.com/entry/jk-rowlin...   \n",
       "\n",
       "                                            headline  is_sarcastic  \n",
       "0  former versace store clerk sues over secret 'b...             0  \n",
       "1  the 'roseanne' revival catches up to our thorn...             0  \n",
       "2  mom starting to fear son's web series closest ...             1  \n",
       "3  boehner just wants wife to listen, not come up...             1  \n",
       "4  j.k. rowling wishes snape happy birthday in th...             0  "
      ]
     },
     "execution_count": 3,
     "metadata": {},
     "output_type": "execute_result"
    }
   ],
   "source": [
    "df = pd.read_json('data.json',lines=True)\n",
    "df.head()"
   ]
  },
  {
   "cell_type": "markdown",
   "metadata": {},
   "source": [
    "# Preprocessing data"
   ]
  },
  {
   "cell_type": "code",
   "execution_count": 4,
   "metadata": {},
   "outputs": [
    {
     "name": "stdout",
     "output_type": "stream",
     "text": [
      "saved to obj/y_train.pkl\n",
      "saved to obj/y_test.pkl\n"
     ]
    }
   ],
   "source": [
    "# Modes of preprocessing data\n",
    "modes = ('remove_unicode', 'lowercase', 'remove_accents')\n",
    "TextPreprocessor.process(df,modes)\n",
    "headlines_train = df['headline'][:20000]\n",
    "headlines_test = df['headline'][20000:]\n",
    "y_train = df['is_sarcastic'][:20000]\n",
    "y_test = df['is_sarcastic'][20000:]\n",
    "FP.save_obj(y_train,'y_train')\n",
    "FP.save_obj(y_test,'y_test')"
   ]
  },
  {
   "cell_type": "code",
   "execution_count": 4,
   "metadata": {
    "scrolled": false
   },
   "outputs": [
    {
     "name": "stdout",
     "output_type": "stream",
     "text": [
      "Progress..98%Done\n"
     ]
    },
    {
     "data": {
      "image/png": "[encoded data removed]",
      "text/plain": [
       "<Figure size 1440x1152 with 1 Axes>"
      ]
     },
     "metadata": {},
     "output_type": "display_data"
    }
   ],
   "source": [
    "CountPlot(df)"
   ]
  },
  {
   "cell_type": "markdown",
   "metadata": {},
   "source": [
    "In this experiment, we're not gonna remove stopwords!:D"
   ]
  },
  {
   "cell_type": "markdown",
   "metadata": {},
   "source": [
    "# Embedding text with different methods and comparing the result"
   ]
  },
  {
   "cell_type": "code",
   "execution_count": 6,
   "metadata": {},
   "outputs": [],
   "source": [
    "Vectorizer = TFIDFVectorizer(mode='natural').fit(df['headline'])"
   ]
  },
  {
   "cell_type": "markdown",
   "metadata": {},
   "source": [
    "## Natural TFIDF"
   ]
  },
  {
   "cell_type": "code",
   "execution_count": 7,
   "metadata": {},
   "outputs": [
    {
     "name": "stdout",
     "output_type": "stream",
     "text": [
      "Performing Tf..98% Done!\n",
      "Performing Idf.. Done!\n",
      "Performing Tfidf.. Done!\n",
      "Performing Tf..97% Done!\n",
      "Performing Idf.. Done!\n",
      "Performing Tfidf.. Done!\n"
     ]
    },
    {
     "name": "stderr",
     "output_type": "stream",
     "text": [
      "/home/truongphatuit/.conda/envs/tf2/lib/python3.6/site-packages/sklearn/linear_model/logistic.py:433: FutureWarning: Default solver will be changed to 'lbfgs' in 0.22. Specify a solver to silence this warning.\n",
      "  FutureWarning)\n"
     ]
    },
    {
     "name": "stdout",
     "output_type": "stream",
     "text": [
      "====\n",
      "LOGISTIC REGRESSION\n",
      "Accuracy:  0.8363392457892384\n",
      "Precision Score:  0.828080229226361\n",
      "Recall Score:  0.7890784982935154\n",
      "F1 Score:  0.8081090527787488\n",
      "====\n",
      "NAIVE BAYES\n",
      "Accuracy:  0.8016097779102698\n",
      "Precision Score:  0.756167894905479\n",
      "Recall Score:  0.8054607508532423\n",
      "F1 Score:  0.7800363576268385\n"
     ]
    }
   ],
   "source": [
    "x_train = Vectorizer.transform(headlines_train)\n",
    "x_test = Vectorizer.transform(headlines_test)\n",
    "model_lr = LogisticRegression().fit(x_train,y_train)\n",
    "y_test_pred = model_lr.predict(x_test)\n",
    "print('====\\nLOGISTIC REGRESSION')\n",
    "print('Accuracy: ', accuracy_score(y_test,y_test_pred))\n",
    "print('Precision Score: ', precision_score(y_test,y_test_pred))\n",
    "print('Recall Score: ', recall_score(y_test,y_test_pred))\n",
    "print('F1 Score: ', f1_score(y_test,y_test_pred))\n",
    "\n",
    "model_nb = MultinomialNB().fit(x_train,y_train)\n",
    "y_test_pred = model_nb.predict(x_test)\n",
    "print('====\\nNAIVE BAYES')\n",
    "print('Accuracy: ', accuracy_score(y_test,y_test_pred))\n",
    "print('Precision Score: ', precision_score(y_test,y_test_pred))\n",
    "print('Recall Score: ', recall_score(y_test,y_test_pred))\n",
    "print('F1 Score: ', f1_score(y_test,y_test_pred))"
   ]
  },
  {
   "cell_type": "markdown",
   "metadata": {},
   "source": [
    "## Logarithmic TFIDF"
   ]
  },
  {
   "cell_type": "code",
   "execution_count": 8,
   "metadata": {
    "scrolled": true
   },
   "outputs": [
    {
     "name": "stdout",
     "output_type": "stream",
     "text": [
      "Performing Tf..98% Done!\n",
      "Performing LogTf.. Done!\n",
      "Performing Idf.. Done!\n",
      "Performing Tfidf.. Done!\n",
      "Performing Tf..97% Done!\n",
      "Performing LogTf.. Done!\n",
      "Performing Idf.. Done!\n",
      "Performing Tfidf.. Done!\n"
     ]
    },
    {
     "name": "stderr",
     "output_type": "stream",
     "text": [
      "/home/truongphatuit/.conda/envs/tf2/lib/python3.6/site-packages/sklearn/linear_model/logistic.py:433: FutureWarning: Default solver will be changed to 'lbfgs' in 0.22. Specify a solver to silence this warning.\n",
      "  FutureWarning)\n"
     ]
    },
    {
     "name": "stdout",
     "output_type": "stream",
     "text": [
      "====\n",
      "LOGISTIC REGRESSION\n",
      "Accuracy:  0.8367864063198688\n",
      "Precision Score:  0.828499820981024\n",
      "Recall Score:  0.7897610921501707\n",
      "F1 Score:  0.8086667831556876\n",
      "====\n",
      "NAIVE BAYES\n",
      "Accuracy:  0.80175883142048\n",
      "Precision Score:  0.7564102564102564\n",
      "Recall Score:  0.8054607508532423\n",
      "F1 Score:  0.7801652892561983\n"
     ]
    }
   ],
   "source": [
    "Vectorizer.change_mode('log')\n",
    "x_train = Vectorizer.transform(headlines_train)\n",
    "x_test = Vectorizer.transform(headlines_test)\n",
    "model_lr = LogisticRegression().fit(x_train,y_train)\n",
    "y_test_pred = model_lr.predict(x_test)\n",
    "print('====\\nLOGISTIC REGRESSION')\n",
    "print('Accuracy: ', accuracy_score(y_test,y_test_pred))\n",
    "print('Precision Score: ', precision_score(y_test,y_test_pred))\n",
    "print('Recall Score: ', recall_score(y_test,y_test_pred))\n",
    "print('F1 Score: ', f1_score(y_test,y_test_pred))\n",
    "\n",
    "model_nb = MultinomialNB().fit(x_train,y_train)\n",
    "y_test_pred = model_nb.predict(x_test)\n",
    "print('====\\nNAIVE BAYES')\n",
    "print('Accuracy: ', accuracy_score(y_test,y_test_pred))\n",
    "print('Precision Score: ', precision_score(y_test,y_test_pred))\n",
    "print('Recall Score: ', recall_score(y_test,y_test_pred))\n",
    "print('F1 Score: ', f1_score(y_test,y_test_pred))"
   ]
  },
  {
   "cell_type": "markdown",
   "metadata": {},
   "source": [
    "## Boolean TFIDF"
   ]
  },
  {
   "cell_type": "code",
   "execution_count": 9,
   "metadata": {},
   "outputs": [
    {
     "name": "stdout",
     "output_type": "stream",
     "text": [
      "Performing Tf..98% Done!\n",
      "Performing BooleanTf.. Done!\n",
      "Performing Idf.. Done!\n",
      "Performing Tfidf.. Done!\n",
      "Performing Tf..97% Done!\n",
      "Performing BooleanTf.. Done!\n",
      "Performing Idf.. Done!\n",
      "Performing Tfidf.. Done!\n"
     ]
    },
    {
     "name": "stderr",
     "output_type": "stream",
     "text": [
      "/home/truongphatuit/.conda/envs/tf2/lib/python3.6/site-packages/sklearn/linear_model/logistic.py:433: FutureWarning: Default solver will be changed to 'lbfgs' in 0.22. Specify a solver to silence this warning.\n",
      "  FutureWarning)\n"
     ]
    },
    {
     "name": "stdout",
     "output_type": "stream",
     "text": [
      "====\n",
      "LOGISTIC REGRESSION\n",
      "Accuracy:  0.8373826203607095\n",
      "Precision Score:  0.8301615798922801\n",
      "Recall Score:  0.7890784982935154\n",
      "F1 Score:  0.8090988626421698\n",
      "====\n",
      "NAIVE BAYES\n",
      "Accuracy:  0.8022059919511104\n",
      "Precision Score:  0.756152125279642\n",
      "Recall Score:  0.8075085324232082\n",
      "F1 Score:  0.7809869615448094\n"
     ]
    }
   ],
   "source": [
    "Vectorizer.change_mode('boolean')\n",
    "x_train = Vectorizer.transform(headlines_train)\n",
    "x_test = Vectorizer.transform(headlines_test)\n",
    "model_lr = LogisticRegression().fit(x_train,y_train)\n",
    "y_test_pred = model_lr.predict(x_test)\n",
    "print('====\\nLOGISTIC REGRESSION')\n",
    "print('Accuracy: ', accuracy_score(y_test,y_test_pred))\n",
    "print('Precision Score: ', precision_score(y_test,y_test_pred))\n",
    "print('Recall Score: ', recall_score(y_test,y_test_pred))\n",
    "print('F1 Score: ', f1_score(y_test,y_test_pred))\n",
    "\n",
    "model_nb = MultinomialNB().fit(x_train,y_train)\n",
    "y_test_pred = model_nb.predict(x_test)\n",
    "print('====\\nNAIVE BAYES')\n",
    "print('Accuracy: ', accuracy_score(y_test,y_test_pred))\n",
    "print('Precision Score: ', precision_score(y_test,y_test_pred))\n",
    "print('Recall Score: ', recall_score(y_test,y_test_pred))\n",
    "print('F1 Score: ', f1_score(y_test,y_test_pred))"
   ]
  },
  {
   "cell_type": "markdown",
   "metadata": {},
   "source": [
    "## Augmented TFIDF"
   ]
  },
  {
   "cell_type": "code",
   "execution_count": 10,
   "metadata": {
    "scrolled": true
   },
   "outputs": [
    {
     "name": "stdout",
     "output_type": "stream",
     "text": [
      "Performing Tf..98% Done!\n",
      "Performing AugTf..98% Done!\n",
      "Performing Idf.. Done!\n",
      "Performing Tfidf.. Done!\n",
      "Performing Tf..97% Done!\n",
      "Performing AugTf..97% Done!\n",
      "Performing Idf.. Done!\n",
      "Performing Tfidf.. Done!\n"
     ]
    },
    {
     "name": "stderr",
     "output_type": "stream",
     "text": [
      "/home/truongphatuit/.conda/envs/tf2/lib/python3.6/site-packages/sklearn/linear_model/logistic.py:433: FutureWarning: Default solver will be changed to 'lbfgs' in 0.22. Specify a solver to silence this warning.\n",
      "  FutureWarning)\n"
     ]
    },
    {
     "name": "stdout",
     "output_type": "stream",
     "text": [
      "====\n",
      "LOGISTIC REGRESSION\n",
      "Accuracy:  0.8373826203607095\n",
      "Precision Score:  0.829688060236644\n",
      "Recall Score:  0.7897610921501707\n",
      "F1 Score:  0.8092323832837909\n",
      "====\n",
      "NAIVE BAYES\n",
      "Accuracy:  0.8048889551348934\n",
      "Precision Score:  0.7595260967018892\n",
      "Recall Score:  0.8095563139931741\n",
      "F1 Score:  0.7837435982157608\n"
     ]
    }
   ],
   "source": [
    "Vectorizer.change_mode('augmented')\n",
    "x_train = Vectorizer.transform(headlines_train)\n",
    "x_test = Vectorizer.transform(headlines_test)\n",
    "model_lr = LogisticRegression().fit(x_train,y_train)\n",
    "y_test_pred = model_lr.predict(x_test)\n",
    "print('====\\nLOGISTIC REGRESSION')\n",
    "print('Accuracy: ', accuracy_score(y_test,y_test_pred))\n",
    "print('Precision Score: ', precision_score(y_test,y_test_pred))\n",
    "print('Recall Score: ', recall_score(y_test,y_test_pred))\n",
    "print('F1 Score: ', f1_score(y_test,y_test_pred))\n",
    "FP.sa\n",
    "\n",
    "model_nb = MultinomialNB().fit(x_train,y_train)\n",
    "y_test_pred = model_nb.predict(x_test)\n",
    "print('====\\nNAIVE BAYES')\n",
    "print('Accuracy: ', accuracy_score(y_test,y_test_pred))\n",
    "print('Precision Score: ', precision_score(y_test,y_test_pred))\n",
    "print('Recall Score: ', recall_score(y_test,y_test_pred))\n",
    "print('F1 Score: ', f1_score(y_test,y_test_pred))"
   ]
  },
  {
   "cell_type": "markdown",
   "metadata": {},
   "source": [
    "# Save embedded array for fine-tuning"
   ]
  },
  {
   "cell_type": "code",
   "execution_count": 8,
   "metadata": {},
   "outputs": [
    {
     "name": "stdout",
     "output_type": "stream",
     "text": [
      "Performing Tf..98% Done!\n",
      "Performing AugTf..98% Done!\n",
      "Performing Idf.. Done!\n",
      "Performing Tfidf.. Done!\n",
      "Performing Tf..97% Done!\n",
      "Performing AugTf..97% Done!\n",
      "Performing Idf.. Done!\n",
      "Performing Tfidf.. Done!\n"
     ]
    }
   ],
   "source": [
    "Vectorizer.change_mode('augmented')\n",
    "x_train = Vectorizer.transform(headlines_train)\n",
    "x_test = Vectorizer.transform(headlines_test)\n",
    "FP.save_obj(x_train,'x_train_aug')\n",
    "FP.save_obj(x_test,'x_test_aug')"
   ]
  },
  {
   "cell_type": "code",
   "execution_count": 7,
   "metadata": {},
   "outputs": [
    {
     "name": "stdout",
     "output_type": "stream",
     "text": [
      "Performing Tf..98% Done!\n",
      "Performing BooleanTf.. Done!\n",
      "Performing Idf.. Done!\n",
      "Performing Tfidf.. Done!\n",
      "Performing Tf..97% Done!\n",
      "Performing BooleanTf.. Done!\n",
      "Performing Idf.. Done!\n",
      "Performing Tfidf.. Done!\n",
      "saved to obj/x_train_boolean.pkl\n",
      "saved to obj/x_test_boolean.pkl\n"
     ]
    }
   ],
   "source": [
    "Vectorizer.change_mode('boolean')\n",
    "x_train = Vectorizer.transform(headlines_train)\n",
    "x_test = Vectorizer.transform(headlines_test)\n",
    "FP.save_obj(x_train,'x_train_boolean')\n",
    "FP.save_obj(x_test,'x_test_boolean')"
   ]
  },
  {
   "cell_type": "code",
   "execution_count": 8,
   "metadata": {},
   "outputs": [
    {
     "name": "stdout",
     "output_type": "stream",
     "text": [
      "Performing Tf..98% Done!\n",
      "Performing LogTf.. Done!\n",
      "Performing Idf.. Done!\n",
      "Performing Tfidf.. Done!\n",
      "Performing Tf..97% Done!\n",
      "Performing LogTf.. Done!\n",
      "Performing Idf.. Done!\n",
      "Performing Tfidf.. Done!\n",
      "saved to obj/x_train_log.pkl\n",
      "saved to obj/x_test_log.pkl\n"
     ]
    }
   ],
   "source": [
    "Vectorizer.change_mode('log')\n",
    "x_train = Vectorizer.transform(headlines_train)\n",
    "x_test = Vectorizer.transform(headlines_test)\n",
    "FP.save_obj(x_train,'x_train_log')\n",
    "FP.save_obj(x_test,'x_test_log')"
   ]
  },
  {
   "cell_type": "code",
   "execution_count": null,
   "metadata": {},
   "outputs": [],
   "source": []
  }
 ],
 "metadata": {
  "kernelspec": {
   "display_name": "Python 3",
   "language": "python",
   "name": "python3"
  },
  "language_info": {
   "codemirror_mode": {
    "name": "ipython",
    "version": 3
   },
   "file_extension": ".py",
   "mimetype": "text/x-python",
   "name": "python",
   "nbconvert_exporter": "python",
   "pygments_lexer": "ipython3",
   "version": "3.6.8"
  }
 },
 "nbformat": 4,
 "nbformat_minor": 2
}
